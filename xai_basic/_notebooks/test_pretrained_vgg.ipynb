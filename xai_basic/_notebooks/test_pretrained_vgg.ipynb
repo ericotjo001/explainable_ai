{
 "cells": [
  {
   "cell_type": "code",
   "execution_count": 1,
   "metadata": {},
   "outputs": [],
   "source": [
    "import torchvision.models as mod\n",
    "import torch\n",
    "import numpy as np\n",
    "this_device = torch.device(\"cuda:0\" if torch.cuda.is_available() else \"cpu\")    \n",
    "net = mod.vgg16(pretrained=True,).to(device=this_device)"
   ]
  },
  {
   "cell_type": "code",
   "execution_count": 2,
   "metadata": {},
   "outputs": [
    {
     "name": "stdout",
     "output_type": "stream",
     "text": [
      "y.shape: torch.Size([2, 1000])\n",
      "[0]   [0] <class 'torch.nn.modules.conv.Conv2d'>                 (  0 children) False\n",
      "  [1] <class 'torch.nn.modules.activation.ReLU'>             (  0 children) False\n",
      "  [2] <class 'torch.nn.modules.conv.Conv2d'>                 (  0 children) False\n",
      "  [3] <class 'torch.nn.modules.activation.ReLU'>             (  0 children) False\n",
      "  [4] <class 'torch.nn.modules.pooling.MaxPool2d'>           (  0 children) False\n",
      "  [5] <class 'torch.nn.modules.conv.Conv2d'>                 (  0 children) False\n",
      "  [6] <class 'torch.nn.modules.activation.ReLU'>             (  0 children) False\n",
      "  [7] <class 'torch.nn.modules.conv.Conv2d'>                 (  0 children) False\n",
      "  [8] <class 'torch.nn.modules.activation.ReLU'>             (  0 children) False\n",
      "  [9] <class 'torch.nn.modules.pooling.MaxPool2d'>           (  0 children) False\n",
      "  [10] <class 'torch.nn.modules.conv.Conv2d'>                 (  0 children) False\n",
      "  [11] <class 'torch.nn.modules.activation.ReLU'>             (  0 children) False\n",
      "  [12] <class 'torch.nn.modules.conv.Conv2d'>                 (  0 children) False\n",
      "  [13] <class 'torch.nn.modules.activation.ReLU'>             (  0 children) False\n",
      "  [14] <class 'torch.nn.modules.conv.Conv2d'>                 (  0 children) False\n",
      "  [15] <class 'torch.nn.modules.activation.ReLU'>             (  0 children) False\n",
      "  [16] <class 'torch.nn.modules.pooling.MaxPool2d'>           (  0 children) False\n",
      "  [17] <class 'torch.nn.modules.conv.Conv2d'>                 (  0 children) False\n",
      "  [18] <class 'torch.nn.modules.activation.ReLU'>             (  0 children) False\n",
      "  [19] <class 'torch.nn.modules.conv.Conv2d'>                 (  0 children) False\n",
      "  [20] <class 'torch.nn.modules.activation.ReLU'>             (  0 children) False\n",
      "  [21] <class 'torch.nn.modules.conv.Conv2d'>                 (  0 children) False\n",
      "  [22] <class 'torch.nn.modules.activation.ReLU'>             (  0 children) False\n",
      "  [23] <class 'torch.nn.modules.pooling.MaxPool2d'>           (  0 children) False\n",
      "  [24] <class 'torch.nn.modules.conv.Conv2d'>                 (  0 children) False\n",
      "  [25] <class 'torch.nn.modules.activation.ReLU'>             (  0 children) False\n",
      "  [26] <class 'torch.nn.modules.conv.Conv2d'>                 (  0 children) False\n",
      "  [27] <class 'torch.nn.modules.activation.ReLU'>             (  0 children) False\n",
      "  [28] <class 'torch.nn.modules.conv.Conv2d'>                 (  0 children) False\n",
      "  [29] <class 'torch.nn.modules.activation.ReLU'>             (  0 children) False\n",
      "  [30] <class 'torch.nn.modules.pooling.MaxPool2d'>           (  0 children) False\n",
      "<class 'torch.nn.modules.container.Sequential'>        ( 31 children) (2, 512, 16, 16)        \n",
      "[1] <class 'torch.nn.modules.pooling.AdaptiveAvgPool2d'>   (  0 children) (2, 512, 7, 7)          \n",
      "[2] this is the final sequence of fc networks. Replace this with the FC with the required number of classifications.\n",
      "  [0] <class 'torch.nn.modules.linear.Linear'>               (  0 children) False\n",
      "  [1] <class 'torch.nn.modules.activation.ReLU'>             (  0 children) False\n",
      "  [2] <class 'torch.nn.modules.dropout.Dropout'>             (  0 children) False\n",
      "  [3] <class 'torch.nn.modules.linear.Linear'>               (  0 children) False\n",
      "  [4] <class 'torch.nn.modules.activation.ReLU'>             (  0 children) False\n",
      "  [5] <class 'torch.nn.modules.dropout.Dropout'>             (  0 children) False\n",
      "  [6] <class 'torch.nn.modules.linear.Linear'>               (  0 children) False\n",
      "<class 'torch.nn.modules.container.Sequential'>        (  7 children) (2, 512, 7, 7)          \n"
     ]
    }
   ],
   "source": [
    "x = torch.tensor(np.random.normal(0,1,size=(2,3,512,512))).to(torch.float).to(device=this_device)\n",
    "y = net(x)\n",
    "print('y.shape:',y.shape)\n",
    "\n",
    "for i,m in enumerate(net.children()):     \n",
    "    print('[%s] '%(str(i)),end='')\n",
    "    if i==2:\n",
    "        print('this is the final sequence of fc networks. Replace this with the FC with the required number of classifications.')\n",
    "    else:\n",
    "        x = m(x)\n",
    "        \n",
    "    number_of_subchildren = len(list(m.children()))\n",
    "    if number_of_subchildren>0:\n",
    "        for j,m2 in enumerate(m.children()):\n",
    "            number_of_subsubchildren = len(list(m2.children()))\n",
    "            print('  [%s] %-54s (%3s children) %s'%(str(j),str(type(m2)),\\\n",
    "                str(number_of_subsubchildren), isinstance(m2,mod.resnet.BasicBlock)))  \n",
    "    print('%-54s (%3s children) %-24s'%(str(type(m)),\\\n",
    "        str(number_of_subchildren),str(x.cpu().clone().detach().numpy().shape)))   "
   ]
  },
  {
   "cell_type": "code",
   "execution_count": 3,
   "metadata": {},
   "outputs": [
    {
     "name": "stdout",
     "output_type": "stream",
     "text": [
      "0 features\n",
      "   0 <class 'torch.nn.modules.conv.Conv2d'> 0\n",
      "   1 <class 'torch.nn.modules.activation.ReLU'> 1\n",
      "   2 <class 'torch.nn.modules.conv.Conv2d'> 2\n",
      "   3 <class 'torch.nn.modules.activation.ReLU'> 3\n",
      "   4 <class 'torch.nn.modules.pooling.MaxPool2d'> 4\n",
      "   5 <class 'torch.nn.modules.conv.Conv2d'> 5\n",
      "   6 <class 'torch.nn.modules.activation.ReLU'> 6\n",
      "   7 <class 'torch.nn.modules.conv.Conv2d'> 7\n",
      "   8 <class 'torch.nn.modules.activation.ReLU'> 8\n",
      "   9 <class 'torch.nn.modules.pooling.MaxPool2d'> 9\n",
      "   10 <class 'torch.nn.modules.conv.Conv2d'> 10\n",
      "   11 <class 'torch.nn.modules.activation.ReLU'> 11\n",
      "   12 <class 'torch.nn.modules.conv.Conv2d'> 12\n",
      "   13 <class 'torch.nn.modules.activation.ReLU'> 13\n",
      "   14 <class 'torch.nn.modules.conv.Conv2d'> 14\n",
      "   15 <class 'torch.nn.modules.activation.ReLU'> 15\n",
      "   16 <class 'torch.nn.modules.pooling.MaxPool2d'> 16\n",
      "   17 <class 'torch.nn.modules.conv.Conv2d'> 17\n",
      "   18 <class 'torch.nn.modules.activation.ReLU'> 18\n",
      "   19 <class 'torch.nn.modules.conv.Conv2d'> 19\n",
      "   20 <class 'torch.nn.modules.activation.ReLU'> 20\n",
      "   21 <class 'torch.nn.modules.conv.Conv2d'> 21\n",
      "   22 <class 'torch.nn.modules.activation.ReLU'> 22\n",
      "   23 <class 'torch.nn.modules.pooling.MaxPool2d'> 23\n",
      "   24 <class 'torch.nn.modules.conv.Conv2d'> 24\n",
      "   25 <class 'torch.nn.modules.activation.ReLU'> 25\n",
      "   26 <class 'torch.nn.modules.conv.Conv2d'> 26\n",
      "   27 <class 'torch.nn.modules.activation.ReLU'> 27\n",
      "   28 <class 'torch.nn.modules.conv.Conv2d'> 28\n",
      "   29 <class 'torch.nn.modules.activation.ReLU'> 29\n",
      "   30 <class 'torch.nn.modules.pooling.MaxPool2d'> 30\n",
      "1 avgpool\n",
      "2 classifier\n",
      "   0 <class 'torch.nn.modules.linear.Linear'> 0\n",
      "   1 <class 'torch.nn.modules.activation.ReLU'> 1\n",
      "   2 <class 'torch.nn.modules.dropout.Dropout'> 2\n",
      "   3 <class 'torch.nn.modules.linear.Linear'> 3\n",
      "   4 <class 'torch.nn.modules.activation.ReLU'> 4\n",
      "   5 <class 'torch.nn.modules.dropout.Dropout'> 5\n",
      "   6 <class 'torch.nn.modules.linear.Linear'> 6\n"
     ]
    }
   ],
   "source": [
    "for i, (name, m) in enumerate(net.named_children()):\n",
    "    print(i, name)\n",
    "    number_of_subchildren = len(list(m.children()))\n",
    "    if number_of_subchildren>0:\n",
    "        for j,(this_name, m2) in enumerate(m.named_children()):\n",
    "            print('  ', j, type(m2), this_name)"
   ]
  }
 ],
 "metadata": {
  "kernelspec": {
   "display_name": "Python 3",
   "language": "python",
   "name": "python3"
  },
  "language_info": {
   "codemirror_mode": {
    "name": "ipython",
    "version": 3
   },
   "file_extension": ".py",
   "mimetype": "text/x-python",
   "name": "python",
   "nbconvert_exporter": "python",
   "pygments_lexer": "ipython3",
   "version": "3.6.8rc1"
  }
 },
 "nbformat": 4,
 "nbformat_minor": 2
}
