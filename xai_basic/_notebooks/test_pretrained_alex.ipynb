{
 "cells": [
  {
   "cell_type": "code",
   "execution_count": 1,
   "metadata": {},
   "outputs": [
    {
     "name": "stdout",
     "output_type": "stream",
     "text": [
      "y.shape: torch.Size([4, 1000])\n",
      "[0]   [0] <class 'torch.nn.modules.conv.Conv2d'>                 (  0 children) False\n",
      "  [1] <class 'torch.nn.modules.activation.ReLU'>             (  0 children) False\n",
      "  [2] <class 'torch.nn.modules.pooling.MaxPool2d'>           (  0 children) False\n",
      "  [3] <class 'torch.nn.modules.conv.Conv2d'>                 (  0 children) False\n",
      "  [4] <class 'torch.nn.modules.activation.ReLU'>             (  0 children) False\n",
      "  [5] <class 'torch.nn.modules.pooling.MaxPool2d'>           (  0 children) False\n",
      "  [6] <class 'torch.nn.modules.conv.Conv2d'>                 (  0 children) False\n",
      "  [7] <class 'torch.nn.modules.activation.ReLU'>             (  0 children) False\n",
      "  [8] <class 'torch.nn.modules.conv.Conv2d'>                 (  0 children) False\n",
      "  [9] <class 'torch.nn.modules.activation.ReLU'>             (  0 children) False\n",
      "  [10] <class 'torch.nn.modules.conv.Conv2d'>                 (  0 children) False\n",
      "  [11] <class 'torch.nn.modules.activation.ReLU'>             (  0 children) False\n",
      "  [12] <class 'torch.nn.modules.pooling.MaxPool2d'>           (  0 children) False\n",
      "<class 'torch.nn.modules.container.Sequential'>        ( 13 children) (4, 256, 15, 15)        \n",
      "[1] <class 'torch.nn.modules.pooling.AdaptiveAvgPool2d'>   (  0 children) (4, 256, 6, 6)          \n",
      "[2] this is the final sequence of fc networks. Replace this with the FC with the required number of classifications.\n",
      "  [0] <class 'torch.nn.modules.dropout.Dropout'>             (  0 children) False\n",
      "  [1] <class 'torch.nn.modules.linear.Linear'>               (  0 children) False\n",
      "  [2] <class 'torch.nn.modules.activation.ReLU'>             (  0 children) False\n",
      "  [3] <class 'torch.nn.modules.dropout.Dropout'>             (  0 children) False\n",
      "  [4] <class 'torch.nn.modules.linear.Linear'>               (  0 children) False\n",
      "  [5] <class 'torch.nn.modules.activation.ReLU'>             (  0 children) False\n",
      "  [6] <class 'torch.nn.modules.linear.Linear'>               (  0 children) False\n",
      "<class 'torch.nn.modules.container.Sequential'>        (  7 children) (4, 256, 6, 6)          \n"
     ]
    }
   ],
   "source": [
    "import torchvision.models as mod\n",
    "\n",
    "net = mod.alexnet(pretrained=True,)\n",
    "\n",
    "import torch\n",
    "import numpy as np\n",
    "x = torch.tensor(np.random.normal(0,1,size=(4,3,512,512))).to(torch.float)\n",
    "y = net(x)\n",
    "print('y.shape:',y.shape)\n",
    "\n",
    "for i,m in enumerate(net.children()):     \n",
    "    print('[%s] '%(str(i)),end='')\n",
    "    if i==2:\n",
    "        print('this is the final sequence of fc networks. Replace this with the FC with the required number of classifications.')\n",
    "    else:\n",
    "        x = m(x)\n",
    "        \n",
    "    number_of_subchildren = len(list(m.children()))\n",
    "    if number_of_subchildren>0:\n",
    "        for j,m2 in enumerate(m.children()):\n",
    "            number_of_subsubchildren = len(list(m2.children()))\n",
    "            print('  [%s] %-54s (%3s children) %s'%(str(j),str(type(m2)),\\\n",
    "                str(number_of_subsubchildren), isinstance(m2,mod.resnet.BasicBlock)))  \n",
    "    print('%-54s (%3s children) %-24s'%(str(type(m)),\\\n",
    "        str(number_of_subchildren),str(x.clone().detach().numpy().shape)))   \n",
    "    if i==2: break"
   ]
  },
  {
   "cell_type": "code",
   "execution_count": 4,
   "metadata": {},
   "outputs": [
    {
     "name": "stdout",
     "output_type": "stream",
     "text": [
      "0 features\n",
      "   0 <class 'torch.nn.modules.conv.Conv2d'> 0\n",
      "   1 <class 'torch.nn.modules.activation.ReLU'> 1\n",
      "   2 <class 'torch.nn.modules.pooling.MaxPool2d'> 2\n",
      "   3 <class 'torch.nn.modules.conv.Conv2d'> 3\n",
      "   4 <class 'torch.nn.modules.activation.ReLU'> 4\n",
      "   5 <class 'torch.nn.modules.pooling.MaxPool2d'> 5\n",
      "   6 <class 'torch.nn.modules.conv.Conv2d'> 6\n",
      "   7 <class 'torch.nn.modules.activation.ReLU'> 7\n",
      "   8 <class 'torch.nn.modules.conv.Conv2d'> 8\n",
      "   9 <class 'torch.nn.modules.activation.ReLU'> 9\n",
      "   10 <class 'torch.nn.modules.conv.Conv2d'> 10\n",
      "   11 <class 'torch.nn.modules.activation.ReLU'> 11\n",
      "   12 <class 'torch.nn.modules.pooling.MaxPool2d'> 12\n",
      "1 avgpool\n",
      "2 classifier\n",
      "   0 <class 'torch.nn.modules.dropout.Dropout'> 0\n",
      "   1 <class 'torch.nn.modules.linear.Linear'> 1\n",
      "   2 <class 'torch.nn.modules.activation.ReLU'> 2\n",
      "   3 <class 'torch.nn.modules.dropout.Dropout'> 3\n",
      "   4 <class 'torch.nn.modules.linear.Linear'> 4\n",
      "   5 <class 'torch.nn.modules.activation.ReLU'> 5\n",
      "   6 <class 'torch.nn.modules.linear.Linear'> 6\n"
     ]
    }
   ],
   "source": [
    "for i, (name, m) in enumerate(net.named_children()):\n",
    "    print(i, name)\n",
    "    number_of_subchildren = len(list(m.children()))\n",
    "    if number_of_subchildren>0:\n",
    "        for j,(this_name, m2) in enumerate(m.named_children()):\n",
    "            print('  ', j, type(m2), this_name)"
   ]
  },
  {
   "cell_type": "code",
   "execution_count": null,
   "metadata": {},
   "outputs": [],
   "source": []
  }
 ],
 "metadata": {
  "kernelspec": {
   "display_name": "Python 3",
   "language": "python",
   "name": "python3"
  },
  "language_info": {
   "codemirror_mode": {
    "name": "ipython",
    "version": 3
   },
   "file_extension": ".py",
   "mimetype": "text/x-python",
   "name": "python",
   "nbconvert_exporter": "python",
   "pygments_lexer": "ipython3",
   "version": "3.6.8rc1"
  }
 },
 "nbformat": 4,
 "nbformat_minor": 2
}
