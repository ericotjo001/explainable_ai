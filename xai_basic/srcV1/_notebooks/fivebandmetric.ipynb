{
 "cells": [
  {
   "cell_type": "code",
   "execution_count": 1,
   "metadata": {},
   "outputs": [
    {
     "name": "stdout",
     "output_type": "stream",
     "text": [
      "D:/Desktop@D/xai_basic\n"
     ]
    }
   ],
   "source": [
    "import os, sys\n",
    "import general_config \n",
    "print(general_config.ROOTDIR)\n",
    "sys.path.append(general_config.ROOTDIR)"
   ]
  },
  {
   "cell_type": "code",
   "execution_count": 2,
   "metadata": {},
   "outputs": [],
   "source": [
    "import numpy as np"
   ]
  },
  {
   "cell_type": "code",
   "execution_count": 3,
   "metadata": {},
   "outputs": [],
   "source": [
    "from pipeline.eval.eval_metrics import FiveBandXAIMetric\n",
    "xai = FiveBandXAIMetric()\n",
    "C,H,W = 3,2,5"
   ]
  },
  {
   "cell_type": "code",
   "execution_count": 4,
   "metadata": {},
   "outputs": [
    {
     "name": "stdout",
     "output_type": "stream",
     "text": [
      "after strat: [[-2. -2. -1. -1.  0.]\n",
      " [ 0.  1.  1.  2.  2.]]\n",
      "h0\n",
      " [[-1.    -0.778 -0.556 -0.333 -0.111]\n",
      " [ 0.111  0.333  0.556  0.778  1.   ]]\n",
      "h0.shape: (2, 5)\n",
      "h\n",
      " [[[-1.    -0.778 -0.556 -0.333 -0.111]\n",
      "  [ 0.111  0.333  0.556  0.778  1.   ]]\n",
      "\n",
      " [[-1.    -0.778 -0.556 -0.333 -0.111]\n",
      "  [ 0.111  0.333  0.556  0.778  1.   ]]\n",
      "\n",
      " [[-1.    -0.778 -0.556 -0.333 -0.111]\n",
      "  [ 0.111  0.333  0.556  0.778  1.   ]]]\n",
      "h.shape (3, 2, 5)\n",
      "================================================================\n",
      "fiveband_score()\n",
      "h after normalization\n",
      " [[-1.    -0.778 -0.556 -0.333 -0.111]\n",
      " [ 0.111  0.333  0.556  0.778  1.   ]]\n",
      "\n",
      "After strat\n",
      " h.shape: (2, 5)\n",
      "[[-2. -2. -1. -1.  0.]\n",
      " [ 0.  1.  1.  2.  2.]]\n",
      "h0.shape: (2, 5)\n",
      "[[-2. -2. -1. -1.  0.]\n",
      " [ 0.  1.  1.  2.  2.]]\n",
      "\n",
      "binary_equality\n",
      " [[1. 1. 1. 1. 1.]\n",
      " [1. 1. 1. 1. 1.]]\n",
      "TP\n",
      " [[1. 1. 1. 1. 0.]\n",
      " [0. 1. 1. 1. 1.]]\n",
      "FP\n",
      " [[0. 0. 0. 0. 0.]\n",
      " [0. 0. 0. 0. 0.]]\n",
      "FN\n",
      " [[0. 0. 0. 0. 0.]\n",
      " [0. 0. 0. 0. 0.]]\n",
      "================================================================\n",
      "{'pixel_acc': 1.0, 'recall': 0.9999998750000157, 'precision': 0.9999998750000157}\n"
     ]
    }
   ],
   "source": [
    "h0 = np.linspace(-1,1,H*W,)\n",
    "h0 = np.round(h0,3)\n",
    "h0 = np.array(h0).reshape(H,W)\n",
    "h0fs = xai.five_band_stratification(h0, setting=None)\n",
    "print('after strat:',h0fs)\n",
    "h = np.stack((h0,h0,h0))\n",
    "print('h0\\n',h0)\n",
    "print('h0.shape:',h0.shape)\n",
    "print('h\\n',h)\n",
    "print('h.shape',h.shape)\n",
    "metrics = xai.fiveband_score(h, h0, verbose=250)\n",
    "print(metrics)"
   ]
  },
  {
   "cell_type": "code",
   "execution_count": 5,
   "metadata": {},
   "outputs": [
    {
     "name": "stdout",
     "output_type": "stream",
     "text": [
      "h0\n",
      " [[-1.    -0.778 -0.556 -0.333 -0.111]\n",
      " [ 0.111  0.333  0.556  0.778  1.   ]]\n",
      "h0.shape: (2, 5)\n",
      "h\n",
      " [[[ 1.     1.     1.     1.     1.   ]\n",
      "  [ 0.111  0.333  0.556  0.778  1.   ]]\n",
      "\n",
      " [[-1.    -0.778 -0.556 -0.333 -0.111]\n",
      "  [ 0.111  0.333  0.556  0.778  1.   ]]\n",
      "\n",
      " [[-1.    -0.778 -0.556 -0.333 -0.111]\n",
      "  [ 0.111  0.333  0.556  0.778  1.   ]]]\n",
      "h.shape (3, 2, 5)\n",
      "================================================================\n",
      "fiveband_score()\n",
      "h after normalization\n",
      " [[-0.33333333 -0.18533333 -0.03733333  0.11133333  0.25933333]\n",
      " [ 0.111       0.333       0.556       0.778       1.        ]]\n",
      "\n",
      "After strat\n",
      " h.shape: (2, 5)\n",
      "[[-1.  0.  0.  0.  0.]\n",
      " [ 0.  1.  1.  2.  2.]]\n",
      "h0.shape: (2, 5)\n",
      "[[-2. -2. -1. -1.  0.]\n",
      " [ 0.  1.  1.  2.  2.]]\n",
      "\n",
      "binary_equality\n",
      " [[0. 0. 0. 0. 1.]\n",
      " [1. 1. 1. 1. 1.]]\n",
      "TP\n",
      " [[0. 0. 0. 0. 0.]\n",
      " [0. 1. 1. 1. 1.]]\n",
      "FP\n",
      " [[0. 0. 0. 0. 0.]\n",
      " [0. 0. 0. 0. 0.]]\n",
      "FN\n",
      " [[0. 1. 1. 1. 0.]\n",
      " [0. 0. 0. 0. 0.]]\n",
      "================================================================\n",
      "{'pixel_acc': 0.6, 'recall': 0.57142848979593, 'precision': 0.9999997500000625}\n"
     ]
    }
   ],
   "source": [
    "h0=np.linspace(-1,1,H*W,)\n",
    "h0 = np.round(h0,3)\n",
    "h0 = np.array(h0).reshape(H,W)\n",
    "h = np.stack((h0,h0,h0))\n",
    "h[0,0,:]=1\n",
    "print('h0\\n',h0)\n",
    "print('h0.shape:',h0.shape)\n",
    "print('h\\n',h)\n",
    "print('h.shape',h.shape)\n",
    "metrics = xai.fiveband_score(h, h0, verbose=250)\n",
    "print(metrics)"
   ]
  },
  {
   "cell_type": "code",
   "execution_count": 6,
   "metadata": {},
   "outputs": [
    {
     "name": "stdout",
     "output_type": "stream",
     "text": [
      "h0\n",
      " [[-1.    -0.778 -0.556 -0.333 -0.111]\n",
      " [ 0.111  0.333  0.556  0.778  1.   ]]\n",
      "h0.shape: (2, 5)\n",
      "h\n",
      " [[[-1.    -1.    -1.    -1.    -1.   ]\n",
      "  [ 0.111  0.333  0.556  0.778  1.   ]]\n",
      "\n",
      " [[-1.    -0.778 -0.556 -0.333 -0.111]\n",
      "  [ 0.111  0.333  0.556  0.778  1.   ]]\n",
      "\n",
      " [[-1.    -0.778 -0.556 -0.333 -0.111]\n",
      "  [ 0.111  0.333  0.556  0.778  1.   ]]]\n",
      "h.shape (3, 2, 5)\n",
      "================================================================\n",
      "fiveband_score()\n",
      "h after normalization\n",
      " [[-1.         -0.852      -0.704      -0.55533333 -0.40733333]\n",
      " [ 0.111       0.333       0.556       0.778       1.        ]]\n",
      "\n",
      "After strat\n",
      " h.shape: (2, 5)\n",
      "[[-2. -2. -2. -1. -1.]\n",
      " [ 0.  1.  1.  2.  2.]]\n",
      "h0.shape: (2, 5)\n",
      "[[-2. -2. -1. -1.  0.]\n",
      " [ 0.  1.  1.  2.  2.]]\n",
      "\n",
      "binary_equality\n",
      " [[1. 1. 0. 1. 0.]\n",
      " [1. 1. 1. 1. 1.]]\n",
      "TP\n",
      " [[1. 1. 0. 1. 0.]\n",
      " [0. 1. 1. 1. 1.]]\n",
      "FP\n",
      " [[0. 0. 0. 0. 1.]\n",
      " [0. 0. 0. 0. 0.]]\n",
      "FN\n",
      " [[0. 0. 0. 0. 0.]\n",
      " [0. 0. 0. 0. 0.]]\n",
      "================================================================\n",
      "{'pixel_acc': 0.8, 'recall': 0.9999998571428775, 'precision': 0.8749998906250137}\n"
     ]
    }
   ],
   "source": [
    "h0=np.linspace(-1,1,H*W,)\n",
    "h0 = np.round(h0,3)\n",
    "h0 = np.array(h0).reshape(H,W)\n",
    "h = np.stack((h0,h0,h0))\n",
    "h[0,0,:]=-1\n",
    "print('h0\\n',h0)\n",
    "print('h0.shape:',h0.shape)\n",
    "print('h\\n',h)\n",
    "print('h.shape',h.shape)\n",
    "metrics = xai.fiveband_score(h, h0, verbose=250)\n",
    "print(metrics)"
   ]
  },
  {
   "cell_type": "code",
   "execution_count": 7,
   "metadata": {},
   "outputs": [
    {
     "name": "stdout",
     "output_type": "stream",
     "text": [
      "h0\n",
      " [[0.    0.    0.    0.    0.   ]\n",
      " [0.111 0.333 0.556 0.778 1.   ]]\n",
      "h0.shape: (2, 5)\n",
      "h\n",
      " [[[-1.    -0.778 -0.556 -0.333 -0.111]\n",
      "  [ 0.111  0.333  0.556  0.778  1.   ]]\n",
      "\n",
      " [[-1.    -0.778 -0.556 -0.333 -0.111]\n",
      "  [ 0.111  0.333  0.556  0.778  1.   ]]\n",
      "\n",
      " [[-1.    -0.778 -0.556 -0.333 -0.111]\n",
      "  [ 0.111  0.333  0.556  0.778  1.   ]]]\n",
      "h.shape (3, 2, 5)\n",
      "================================================================\n",
      "fiveband_score()\n",
      "h after normalization\n",
      " [[-1.    -0.778 -0.556 -0.333 -0.111]\n",
      " [ 0.111  0.333  0.556  0.778  1.   ]]\n",
      "\n",
      "After strat\n",
      " h.shape: (2, 5)\n",
      "[[-2. -2. -1. -1.  0.]\n",
      " [ 0.  1.  1.  2.  2.]]\n",
      "h0.shape: (2, 5)\n",
      "[[0. 0. 0. 0. 0.]\n",
      " [0. 1. 1. 2. 2.]]\n",
      "\n",
      "binary_equality\n",
      " [[0. 0. 0. 0. 1.]\n",
      " [1. 1. 1. 1. 1.]]\n",
      "TP\n",
      " [[0. 0. 0. 0. 0.]\n",
      " [0. 1. 1. 1. 1.]]\n",
      "FP\n",
      " [[1. 1. 1. 1. 0.]\n",
      " [0. 0. 0. 0. 0.]]\n",
      "FN\n",
      " [[0. 0. 0. 0. 0.]\n",
      " [0. 0. 0. 0. 0.]]\n",
      "================================================================\n",
      "{'pixel_acc': 0.6, 'recall': 0.9999997500000625, 'precision': 0.4999999375000079}\n"
     ]
    }
   ],
   "source": [
    "h0=np.linspace(-1,1,H*W,)\n",
    "h0 = np.round(h0,3)\n",
    "h0 = np.array(h0).reshape(H,W)\n",
    "h = np.stack((h0,h0,h0))\n",
    "h0[0,:]=0\n",
    "print('h0\\n',h0)\n",
    "print('h0.shape:',h0.shape)\n",
    "print('h\\n',h)\n",
    "print('h.shape',h.shape)\n",
    "metrics = xai.fiveband_score(h, h0, verbose=250)\n",
    "print(metrics)"
   ]
  },
  {
   "cell_type": "code",
   "execution_count": 8,
   "metadata": {},
   "outputs": [
    {
     "name": "stdout",
     "output_type": "stream",
     "text": [
      "h0\n",
      " [[0.    0.    0.    0.    0.   ]\n",
      " [0.111 0.333 0.556 0.778 1.   ]]\n",
      "h0.shape: (2, 5)\n",
      "h\n",
      " [[[-1.    -0.778 -0.556 -0.333 -0.111]\n",
      "  [ 0.     0.     0.     0.     0.   ]]\n",
      "\n",
      " [[-1.    -0.778 -0.556 -0.333 -0.111]\n",
      "  [ 0.     0.     0.     0.     0.   ]]\n",
      "\n",
      " [[-1.    -0.778 -0.556 -0.333 -0.111]\n",
      "  [ 0.     0.     0.     0.     0.   ]]]\n",
      "h.shape (3, 2, 5)\n",
      "================================================================\n",
      "fiveband_score()\n",
      "h after normalization\n",
      " [[-1.    -0.778 -0.556 -0.333 -0.111]\n",
      " [ 0.     0.     0.     0.     0.   ]]\n",
      "\n",
      "After strat\n",
      " h.shape: (2, 5)\n",
      "[[-2. -2. -1. -1.  0.]\n",
      " [ 0.  0.  0.  0.  0.]]\n",
      "h0.shape: (2, 5)\n",
      "[[0. 0. 0. 0. 0.]\n",
      " [0. 1. 1. 2. 2.]]\n",
      "\n",
      "binary_equality\n",
      " [[0. 0. 0. 0. 1.]\n",
      " [1. 0. 0. 0. 0.]]\n",
      "TP\n",
      " [[0. 0. 0. 0. 0.]\n",
      " [0. 0. 0. 0. 0.]]\n",
      "FP\n",
      " [[1. 1. 1. 1. 0.]\n",
      " [0. 0. 0. 0. 0.]]\n",
      "FN\n",
      " [[0. 0. 0. 0. 0.]\n",
      " [0. 1. 1. 1. 1.]]\n",
      "================================================================\n",
      "{'pixel_acc': 0.2, 'recall': 0.0, 'precision': 0.0}\n"
     ]
    }
   ],
   "source": [
    "h0=np.linspace(-1,1,H*W,)\n",
    "h0 = np.round(h0,3)\n",
    "h0 = np.array(h0).reshape(H,W)\n",
    "h = np.stack((h0,h0,h0))\n",
    "h0[0,:]=0\n",
    "h[:,1,:]=0\n",
    "print('h0\\n',h0)\n",
    "print('h0.shape:',h0.shape)\n",
    "print('h\\n',h)\n",
    "print('h.shape',h.shape)\n",
    "metrics = xai.fiveband_score(h, h0, verbose=250)\n",
    "print(metrics)"
   ]
  }
 ],
 "metadata": {
  "kernelspec": {
   "display_name": "Python 3",
   "language": "python",
   "name": "python3"
  },
  "language_info": {
   "codemirror_mode": {
    "name": "ipython",
    "version": 3
   },
   "file_extension": ".py",
   "mimetype": "text/x-python",
   "name": "python",
   "nbconvert_exporter": "python",
   "pygments_lexer": "ipython3",
   "version": "3.6.8rc1"
  }
 },
 "nbformat": 4,
 "nbformat_minor": 2
}
