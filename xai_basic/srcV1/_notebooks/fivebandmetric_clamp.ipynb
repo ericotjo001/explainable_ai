{
 "cells": [
  {
   "cell_type": "code",
   "execution_count": 1,
   "metadata": {},
   "outputs": [],
   "source": [
    "import os, sys\n",
    "import general_config \n",
    "print(general_config.ROOTDIR)\n",
    "sys.path.append(general_config.ROOTDIR)"
   ]
  },
  {
   "cell_type": "code",
   "execution_count": 2,
   "metadata": {},
   "outputs": [],
   "source": [
    "import numpy as np"
   ]
  },
  {
   "cell_type": "code",
   "execution_count": 3,
   "metadata": {},
   "outputs": [
    {
     "name": "stdout",
     "output_type": "stream",
     "text": [
      "[[-1.  -0.9 -0.8 -0.7 -0.6 -0.5 -0.4]\n",
      " [-0.3 -0.2 -0.1  0.   0.1  0.2  0.3]\n",
      " [ 0.4  0.5  0.6  0.7  0.8  0.9  1. ]]\n",
      "[[0.  0.  0.  0.  0.  0.  0. ]\n",
      " [0.  0.  0.  0.  0.1 0.2 0.3]\n",
      " [0.4 0.5 0.6 0.7 0.8 0.9 1. ]]\n"
     ]
    }
   ],
   "source": [
    "x = np.linspace(-1,1,21).reshape(3,7)\n",
    "print(x)\n",
    "print(np.clip(x,0,1))"
   ]
  },
  {
   "cell_type": "code",
   "execution_count": 4,
   "metadata": {},
   "outputs": [],
   "source": [
    "from pipeline.eval.eval_metrics import FiveBandXAIMetric\n",
    "xai = FiveBandXAIMetric()\n",
    "C,H,W = 3,2,5"
   ]
  },
  {
   "cell_type": "code",
   "execution_count": 5,
   "metadata": {},
   "outputs": [],
   "source": [
    "setting = {\n",
    "    'xai_channel_transformation': 'clamp_then_sum_pixels_over_channels',\n",
    "    'sum_pixels_over_channels': {\n",
    "        'normalize': 'absmax_after_sum'\n",
    "    },\n",
    "    'clamp_setting':{\n",
    "        'min_max': [-0.5,0.5],\n",
    "    },\n",
    "    'five_band_stratification':{\n",
    "        'thresholds': np.array([-0.9, -0.5, 0.5, 0.9]),\n",
    "        'targets': np.array([-2,-1,0,1,2]),                     \n",
    "    },\n",
    "    'soft_delta':0.05,\n",
    "    'n_soft_steps':7,\n",
    "}"
   ]
  },
  {
   "cell_type": "code",
   "execution_count": 6,
   "metadata": {},
   "outputs": [
    {
     "name": "stdout",
     "output_type": "stream",
     "text": [
      "h0\n",
      " [[-1.    -0.778 -0.556 -0.333 -0.111]\n",
      " [ 0.111  0.333  0.556  0.778  1.   ]]\n",
      "h0.shape: (2, 5)\n",
      "h\n",
      " [[[-1.    -0.778 -0.556 -0.333 -0.111]\n",
      "  [ 0.111  0.333  0.556  0.778  1.   ]]\n",
      "\n",
      " [[-1.    -0.778 -0.556 -0.333 -0.111]\n",
      "  [ 0.111  0.333  0.556  0.778  1.   ]]\n",
      "\n",
      " [[-1.    -0.778 -0.556 -0.333 -0.111]\n",
      "  [ 0.111  0.333  0.556  0.778  1.   ]]]\n",
      "h.shape (3, 2, 5)\n",
      "================================================================\n",
      "fiveband_score()\n",
      "h after normalization\n",
      " [[-1.    -1.    -1.    -0.666 -0.222]\n",
      " [ 0.222  0.666  1.     1.     1.   ]]\n",
      "\n",
      "After strat\n",
      " h.shape: (2, 5)\n",
      "[[-2. -2. -2. -1.  0.]\n",
      " [ 0.  1.  2.  2.  2.]]\n",
      "h0.shape: (2, 5)\n",
      "[[-2. -1. -1.  0.  0.]\n",
      " [ 0.  0.  1.  1.  2.]]\n",
      "\n",
      "binary_equality\n",
      " [[1. 0. 0. 0. 1.]\n",
      " [1. 0. 0. 0. 1.]]\n",
      "TP\n",
      " [[1. 0. 0. 0. 0.]\n",
      " [0. 0. 0. 0. 1.]]\n",
      "FP\n",
      " [[0. 0. 0. 1. 0.]\n",
      " [0. 1. 0. 0. 0.]]\n",
      "FN\n",
      " [[0. 0. 0. 0. 0.]\n",
      " [0. 0. 0. 0. 0.]]\n",
      "================================================================\n",
      "{'pixel_acc': 0.4, 'recall': 0.99999950000025, 'precision': 0.49999987500003124}\n"
     ]
    }
   ],
   "source": [
    "h0 = np.linspace(-1,1,H*W,)\n",
    "h0 = np.round(h0,3)\n",
    "h0 = np.array(h0).reshape(H,W)\n",
    "h = np.stack((h0,h0,h0))\n",
    "print('h0\\n',h0)\n",
    "print('h0.shape:',h0.shape)\n",
    "print('h\\n',h)\n",
    "print('h.shape',h.shape)\n",
    "metrics = xai.fiveband_score(h, h0, verbose=250, setting=setting)\n",
    "print(metrics)"
   ]
  },
  {
   "cell_type": "code",
   "execution_count": null,
   "metadata": {},
   "outputs": [],
   "source": []
  }
 ],
 "metadata": {
  "kernelspec": {
   "display_name": "Python 3",
   "language": "python",
   "name": "python3"
  },
  "language_info": {
   "codemirror_mode": {
    "name": "ipython",
    "version": 3
   },
   "file_extension": ".py",
   "mimetype": "text/x-python",
   "name": "python",
   "nbconvert_exporter": "python",
   "pygments_lexer": "ipython3",
   "version": "3.6.8rc1"
  }
 },
 "nbformat": 4,
 "nbformat_minor": 2
}
