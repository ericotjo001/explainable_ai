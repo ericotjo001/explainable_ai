{
 "cells": [
  {
   "cell_type": "code",
   "execution_count": 1,
   "metadata": {},
   "outputs": [
    {
     "name": "stdout",
     "output_type": "stream",
     "text": [
      "y.shape: torch.Size([1, 1000])\n",
      "[0] <class 'torch.nn.modules.conv.Conv2d'>                 (  0 children) (1, 64, 112, 112)       \n",
      "[1] <class 'torch.nn.modules.batchnorm.BatchNorm2d'>       (  0 children) (1, 64, 112, 112)       \n",
      "[2] <class 'torch.nn.modules.activation.ReLU'>             (  0 children) (1, 64, 112, 112)       \n",
      "[3] <class 'torch.nn.modules.pooling.MaxPool2d'>           (  0 children) (1, 64, 56, 56)         \n",
      "[4] <class 'torch.nn.modules.container.Sequential'>        (  3 children) (1, 64, 56, 56)         \n",
      "  [0] <class 'torchvision.models.resnet.BasicBlock'>         (  5 children) True\n",
      "  [1] <class 'torchvision.models.resnet.BasicBlock'>         (  5 children) True\n",
      "  [2] <class 'torchvision.models.resnet.BasicBlock'>         (  5 children) True\n",
      "[5] <class 'torch.nn.modules.container.Sequential'>        (  4 children) (1, 128, 28, 28)        \n",
      "  [0] <class 'torchvision.models.resnet.BasicBlock'>         (  6 children) True\n",
      "  [1] <class 'torchvision.models.resnet.BasicBlock'>         (  5 children) True\n",
      "  [2] <class 'torchvision.models.resnet.BasicBlock'>         (  5 children) True\n",
      "  [3] <class 'torchvision.models.resnet.BasicBlock'>         (  5 children) True\n",
      "[6] <class 'torch.nn.modules.container.Sequential'>        (  6 children) (1, 256, 14, 14)        \n",
      "  [0] <class 'torchvision.models.resnet.BasicBlock'>         (  6 children) True\n",
      "  [1] <class 'torchvision.models.resnet.BasicBlock'>         (  5 children) True\n",
      "  [2] <class 'torchvision.models.resnet.BasicBlock'>         (  5 children) True\n",
      "  [3] <class 'torchvision.models.resnet.BasicBlock'>         (  5 children) True\n",
      "  [4] <class 'torchvision.models.resnet.BasicBlock'>         (  5 children) True\n",
      "  [5] <class 'torchvision.models.resnet.BasicBlock'>         (  5 children) True\n",
      "[7] <class 'torch.nn.modules.container.Sequential'>        (  3 children) (1, 512, 7, 7)          \n",
      "  [0] <class 'torchvision.models.resnet.BasicBlock'>         (  6 children) True\n",
      "  [1] <class 'torchvision.models.resnet.BasicBlock'>         (  5 children) True\n",
      "  [2] <class 'torchvision.models.resnet.BasicBlock'>         (  5 children) True\n",
      "[8] <class 'torch.nn.modules.pooling.AdaptiveAvgPool2d'>   (  0 children) (1, 512, 1, 1)          \n",
      "[9] <class 'torch.nn.modules.linear.Linear'>               (  0 children) (1, 1000)               \n"
     ]
    }
   ],
   "source": [
    "import torchvision.models as mod\n",
    "resnet = mod.resnet34(pretrained=True, progress=False)\n",
    "import torch\n",
    "import numpy as np\n",
    "x = torch.tensor(np.random.normal(0,1,size=(1,3,224,224))).to(torch.float)\n",
    "y = resnet(x)\n",
    "print('y.shape:',y.shape)\n",
    "\n",
    "for i,m in enumerate(resnet.children()):\n",
    "    if i==9:\n",
    "        x = x.view(1,-1)\n",
    "    x = m(x)\n",
    "    number_of_subchildren = len(list(m.children()))\n",
    "    print('[%s] %-54s (%3s children) %-24s'%(str(i),str(type(m)),\\\n",
    "        str(number_of_subchildren),str(x.clone().detach().numpy().shape)))   \n",
    "    if number_of_subchildren>0:\n",
    "        for j,m2 in enumerate(m.children()):\n",
    "            number_of_subsubchildren = len(list(m2.children()))\n",
    "            print('  [%s] %-54s (%3s children) %s'%(str(j),str(type(m2)),\\\n",
    "                str(number_of_subsubchildren), isinstance(m2,mod.resnet.BasicBlock)))   "
   ]
  }
 ],
 "metadata": {
  "kernelspec": {
   "display_name": "Python 3",
   "language": "python",
   "name": "python3"
  },
  "language_info": {
   "codemirror_mode": {
    "name": "ipython",
    "version": 3
   },
   "file_extension": ".py",
   "mimetype": "text/x-python",
   "name": "python",
   "nbconvert_exporter": "python",
   "pygments_lexer": "ipython3",
   "version": "3.6.8rc1"
  }
 },
 "nbformat": 4,
 "nbformat_minor": 2
}
