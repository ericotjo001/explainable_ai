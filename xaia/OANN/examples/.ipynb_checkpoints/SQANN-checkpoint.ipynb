{
 "cells": [
  {
   "cell_type": "code",
   "execution_count": 1,
   "id": "7b51161d",
   "metadata": {},
   "outputs": [
    {
     "name": "stdout",
     "output_type": "stream",
     "text": [
      "['Checkpoint', 'data', 'main_BONN.py', 'OANN', 'README.md', 'run_SQANN.py', 'SQANN', 'TNN']\n"
     ]
    }
   ],
   "source": [
    "import numpy as np\n",
    "import matplotlib.pyplot as plt\n",
    "import random\n",
    "np.set_printoptions(precision=3)\n",
    "\n",
    "import os\n",
    "os.chdir('../../')\n",
    "print(os.listdir())"
   ]
  },
  {
   "cell_type": "code",
   "execution_count": 2,
   "id": "d781050a",
   "metadata": {},
   "outputs": [],
   "source": [
    "N = 12\n",
    "T = np.linspace(0,2*np.pi*(1-1/N),N)\n",
    "X = np.array([np.cos(T) , np.sin(T)]).T\n",
    "Y = np.ones(shape=(N,))\n",
    "\n",
    "# make the outer ring\n",
    "X = np.concatenate([X,3*X])\n",
    "Y = np.concatenate([Y,0.5*Y])\n",
    "N = len(X)"
   ]
  },
  {
   "cell_type": "code",
   "execution_count": 3,
   "id": "bb227d91",
   "metadata": {},
   "outputs": [],
   "source": [
    "N_test = 48\n",
    "T_test = np.linspace(0,2*np.pi*(1-1/N_test),N_test)\n",
    "X_test = np.array([np.cos(T_test) , np.sin(T_test)]).T\n",
    "Y_test = np.ones(shape=(N_test,))\n",
    "\n",
    "X_test = np.concatenate([X_test,3*X_test])\n",
    "Y_test = np.concatenate([Y_test,0.5*Y_test])\n",
    "\n",
    "test_data_spread = 0.3\n",
    "X_test = X_test + np.random.uniform(-test_data_spread,test_data_spread,size=X_test.shape)\n",
    "N_test = len(X_test)"
   ]
  },
  {
   "cell_type": "code",
   "execution_count": 10,
   "id": "43d05530",
   "metadata": {},
   "outputs": [],
   "source": [
    "from OANN.src.models.utils import double_selective_activation\n",
    "from OANN.src.models.SQANN import SQANN\n",
    "from OANN.src.utils import simple_evaluation, standard_evaluation"
   ]
  },
  {
   "cell_type": "code",
   "execution_count": 8,
   "id": "9f7a5393",
   "metadata": {},
   "outputs": [
    {
     "data": {
      "text/plain": [
       "<matplotlib.legend.Legend at 0x2a10ff64790>"
      ]
     },
     "execution_count": 8,
     "metadata": {},
     "output_type": "execute_result"
    },
    {
     "data": {
      "image/png": "[encoded data removed]",
      "text/plain": [
       "<Figure size 288x216 with 1 Axes>"
      ]
     },
     "metadata": {
      "needs_background": "light"
     },
     "output_type": "display_data"
    }
   ],
   "source": [
    "a1 = 1\n",
    "a2 = 1\n",
    "x_act = np.linspace(-2,2,121)\n",
    "y_act = double_selective_activation(x_act, a1=a1,a2=a2)\n",
    "plt.figure(figsize=(4,3))\n",
    "plt.gca().plot(x_act,y_act, label='$a_1=1.$\\n$a_2=1.$')\n",
    "plt.gca().set_ylim([0,1.2])\n",
    "plt.legend()\n"
   ]
  },
  {
   "cell_type": "code",
   "execution_count": 11,
   "id": "cbe1053c",
   "metadata": {},
   "outputs": [
    {
     "name": "stdout",
     "output_type": "stream",
     "text": [
      "using classic layer setting, inherited from SQANN...\n",
      "Exiting layer_k_sample_collection() because all data have been used.\n",
      "Final positions of indices in the layers:\n",
      "  [1] [0, 3, 6, 9, 12, 14, 16, 18, 20, 22]\n",
      "  [2] [1]\n",
      "  [3] [2, 4, 5, 7, 8, 10, 11, 13, 15, 17, 19, 21, 23]\n"
     ]
    }
   ],
   "source": [
    "settings = {'init_new':True, 'output_mode':'continuous' }\n",
    "net = SQANN(**settings)\n",
    "net.fit_data(X,Y,verbose=20)"
   ]
  },
  {
   "cell_type": "code",
   "execution_count": 12,
   "id": "748d4279",
   "metadata": {},
   "outputs": [
    {
     "ename": "NameError",
     "evalue": "name 'simple_evaluation' is not defined",
     "output_type": "error",
     "traceback": [
      "\u001b[1;31m---------------------------------------------------------------------------\u001b[0m",
      "\u001b[1;31mNameError\u001b[0m                                 Traceback (most recent call last)",
      "\u001b[1;32mC:\\Users\\ERICOT~1\\AppData\\Local\\Temp/ipykernel_6820/1577758757.py\u001b[0m in \u001b[0;36m<module>\u001b[1;34m\u001b[0m\n\u001b[1;32m----> 1\u001b[1;33m \u001b[0msimple_evaluation\u001b[0m\u001b[1;33m(\u001b[0m\u001b[0mX\u001b[0m\u001b[1;33m,\u001b[0m\u001b[0mY\u001b[0m\u001b[1;33m,\u001b[0m\u001b[0mnet\u001b[0m\u001b[1;33m,\u001b[0m \u001b[0mheader_text\u001b[0m\u001b[1;33m=\u001b[0m\u001b[1;34m'Show fitting on training data'\u001b[0m\u001b[1;33m,\u001b[0m \u001b[0mverbose\u001b[0m\u001b[1;33m=\u001b[0m\u001b[1;36m20\u001b[0m\u001b[1;33m)\u001b[0m\u001b[1;33m\u001b[0m\u001b[1;33m\u001b[0m\u001b[0m\n\u001b[0m",
      "\u001b[1;31mNameError\u001b[0m: name 'simple_evaluation' is not defined"
     ]
    }
   ],
   "source": [
    "simple_evaluation(X,Y,net, header_text='Show fitting on training data', verbose=20)"
   ]
  },
  {
   "cell_type": "code",
   "execution_count": null,
   "id": "58115f23",
   "metadata": {},
   "outputs": [],
   "source": []
  }
 ],
 "metadata": {
  "kernelspec": {
   "display_name": "Python 3 (ipykernel)",
   "language": "python",
   "name": "python3"
  },
  "language_info": {
   "codemirror_mode": {
    "name": "ipython",
    "version": 3
   },
   "file_extension": ".py",
   "mimetype": "text/x-python",
   "name": "python",
   "nbconvert_exporter": "python",
   "pygments_lexer": "ipython3",
   "version": "3.8.10"
  }
 },
 "nbformat": 4,
 "nbformat_minor": 5
}
