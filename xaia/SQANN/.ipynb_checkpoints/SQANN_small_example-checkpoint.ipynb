{
 "cells": [
  {
   "cell_type": "code",
   "execution_count": 1,
   "id": "5d0c5b0f",
   "metadata": {},
   "outputs": [],
   "source": [
    "import numpy as np\n",
    "import matplotlib.pyplot as plt\n",
    "import random\n",
    "np.set_printoptions(precision=3)\n",
    "\n",
    "from src.model import SQANN, double_selective_activation\n",
    "from src.utils import make_layer_setting, simple_evaluation, standard_evaluation"
   ]
  },
  {
   "cell_type": "markdown",
   "id": "cedddf66",
   "metadata": {},
   "source": [
    "# Data and some settings"
   ]
  },
  {
   "cell_type": "code",
   "execution_count": 2,
   "id": "1afe9201",
   "metadata": {},
   "outputs": [],
   "source": [
    "a1 = 0.001\n",
    "a2 = 0.5\n",
    "t_admission = 0.1\n",
    "t_threshold = 0.9\n",
    "\n",
    "# training data\n",
    "X = np.array([[1.,1.2],[1.2,0.8],[-1.,-1.],[-1.2,-1.2],])\n",
    "Y = np.array([1.,1., 0.,0.])\n",
    "N = len(X)\n",
    "\n",
    "# test data\n",
    "X_test = np.array([[1.25,1.25],[-1.25,-1.],[-1,-1.4]])\n",
    "Y_test = np.array([1.,0.,0.])"
   ]
  },
  {
   "cell_type": "markdown",
   "id": "a0b0ba9a",
   "metadata": {},
   "source": [
    "# Some scratch Works"
   ]
  },
  {
   "cell_type": "code",
   "execution_count": 3,
   "id": "c674d4c6",
   "metadata": {},
   "outputs": [
    {
     "name": "stdout",
     "output_type": "stream",
     "text": [
      "act1_0: 0.3344454438567918\n",
      "act2_0: 5.655468838366701e-05\n",
      "act3_0: 4.7165361758324685e-05\n",
      "act3_2: 0.5009573514714075\n",
      "next layer:\n",
      "act1_2: 6.187353050365053e-05\n",
      "act3_1: 0.007324948714461226\n",
      "\n",
      "test:\n",
      "test0_0: 0.5052960903090358\n",
      "test0_2: 4.9377839225755484e-05\n",
      "test_0_1: 0.5164688877956867\n",
      "test_0_3: 0.0009858581567478246\n",
      "test_1_0: 5.048720149442117e-05\n",
      "test_1_2: 0.5059247004830902\n",
      "test_1_3: 0.9879598030304475\n"
     ]
    }
   ],
   "source": [
    "act1_0 = double_selective_activation(np.sum((X[1]-X[0])**2)**0.5 ,r=0.5, a1=a1, a2=a2)\n",
    "act2_0 = double_selective_activation(np.sum((X[2]-X[0])**2)**0.5 ,r=0.5, a1=a1, a2=a2)\n",
    "act3_0 = double_selective_activation(np.sum((X[3]-X[0])**2)**0.5 ,r=0.5, a1=a1, a2=a2)\n",
    "act3_2 = double_selective_activation(np.sum((X[3]-X[2])**2)**0.5 ,r=0.5, a1=a1, a2=a2)\n",
    "\n",
    "print('act1_0:',act1_0)\n",
    "print('act2_0:',act2_0)\n",
    "print('act3_0:',act3_0)\n",
    "print('act3_2:',act3_2)\n",
    "\n",
    "# next layer\n",
    "\n",
    "act1_2 = double_selective_activation(np.sum((X[1]-X[2])**2)**0.5 ,r=0.5, a1=a1, a2=a2)\n",
    "v1 = np.array([act1_0,act1_2])\n",
    "v3 = np.array([act3_0,act3_2])\n",
    "act3_1 = double_selective_activation(np.sum((v3-v1)**2)**0.5 ,r=0.5, a1=a1, a2=a2)\n",
    "print('next layer:')\n",
    "print('act1_2:',act1_2)\n",
    "print('act3_1:',act3_1)\n",
    "\n",
    "# test\n",
    "test0_0 = double_selective_activation(np.sum((X_test[0]-X[0])**2)**0.5 ,r=0.5, a1=a1, a2=a2)\n",
    "test0_2 = double_selective_activation(np.sum((X_test[0]-X[2])**2)**0.5 ,r=0.5, a1=a1, a2=a2)\n",
    "print('\\ntest:')\n",
    "print('test0_0:',test0_0)\n",
    "print('test0_2:',test0_2)\n",
    "\n",
    "vtest_0 = np.array([test0_0,test0_2])\n",
    "test_0_1 = double_selective_activation(np.sum((vtest_0-v1)**2)**0.5 ,r=0.5, a1=a1, a2=a2)\n",
    "test_0_3 = double_selective_activation(np.sum((vtest_0-v3)**2)**0.5 ,r=0.5, a1=a1, a2=a2)\n",
    "print('test_0_1:',test_0_1)\n",
    "print('test_0_3:',test_0_3)\n",
    "\n",
    "test_1_0 = double_selective_activation(np.sum((X_test[1]-X[0])**2)**0.5 ,r=0.5, a1=a1, a2=a2)\n",
    "test_1_2 = double_selective_activation(np.sum((X_test[1]-X[2])**2)**0.5 ,r=0.5, a1=a1, a2=a2)\n",
    "print('test_1_0:',test_1_0)\n",
    "print('test_1_2:',test_1_2)\n",
    "\n",
    "vtest_1 = np.array([test_1_0,test_1_2])\n",
    "test_1_3 = double_selective_activation(np.sum((vtest_1-v3)**2)**0.5 ,r=0.5, a1=a1, a2=a2)\n",
    "print('test_1_3:',test_1_3)"
   ]
  },
  {
   "cell_type": "markdown",
   "id": "6b50257c",
   "metadata": {},
   "source": [
    "# Automated Model Building"
   ]
  },
  {
   "cell_type": "code",
   "execution_count": 4,
   "id": "8999d07d",
   "metadata": {},
   "outputs": [
    {
     "name": "stdout",
     "output_type": "stream",
     "text": [
      "\n",
      "Exiting layer_k_sample_collection() because all data have been used.\n",
      "Final positions of indices in the layers:\n",
      "  [1] [0, 2]\n",
      "  [2] [1, 3]\n"
     ]
    }
   ],
   "source": [
    "MAX_LAYER = 3\n",
    "layer_settings = {\n",
    "    # make_layer_setting(a1, a2,  admission_threshold, activation_threshold, max_n)\n",
    "    i: make_layer_setting(a1, a2,t_admission, t_threshold, ) for i in range(1,1+MAX_LAYER) # BEST NOW\n",
    "}\n",
    "\n",
    "net = SQANN(layer_settings, N)\n",
    "net.fit_data(X,Y,verbose=20)"
   ]
  },
  {
   "cell_type": "code",
   "execution_count": 5,
   "id": "9f135f29",
   "metadata": {},
   "outputs": [
    {
     "name": "stdout",
     "output_type": "stream",
     "text": [
      "simple_evaluation()\n",
      "Show fitting on training data\n",
      "N_MISSED_ACTIVATIONS:0, N_large_error (>0.1):0\n",
      "avg error          :     0.0, avg_frac_error          :     0.5 \n",
      "avg exclusive error:     0.0, avg exclusive frac error:     0.5\n"
     ]
    }
   ],
   "source": [
    "simple_evaluation(X,Y,net, header_text='Show fitting on training data', verbose=20)"
   ]
  },
  {
   "cell_type": "markdown",
   "id": "da6c4572",
   "metadata": {},
   "source": [
    "# Testing Model"
   ]
  },
  {
   "cell_type": "code",
   "execution_count": 6,
   "id": "cdf5022f",
   "metadata": {},
   "outputs": [
    {
     "name": "stdout",
     "output_type": "stream",
     "text": [
      " i     Layer     |y-y0|                           abs error\n",
      "[0]    L=[1, 2]    |(1.0  ) - (1.0  ))|                 0.0      INTERPOLATE\n",
      "[1]    L=2         |(0.0  ) - (0.0  ))|                 0.0      HIT\n",
      "[2]    L=[1, 2]    |(0.0  ) - (0.0  ))|                 0.0      INTERPOLATE\n",
      "N_INTERPOLATED:2, N_large_error (>0.1):0\n",
      "avg error          :     0.0, avg_frac_error          : 0.66667 \n",
      "avg exclusive error:     0.0, avg exclusive frac error: 0.66667\n"
     ]
    }
   ],
   "source": [
    "_, INTERP_INDICES_test = standard_evaluation(X_test, Y_test, net, get_interp_indices=True)"
   ]
  },
  {
   "cell_type": "code",
   "execution_count": 7,
   "id": "1ed7108a",
   "metadata": {},
   "outputs": [],
   "source": [
    "X_INTERP, Y_INTERP = [], []\n",
    "INTERP_MEMBER_LIST = []\n",
    "for i in INTERP_INDICES_test:\n",
    "    X_INTERP.append(X_test[i,:])\n",
    "    y_interp,_,_, interp_info = net.SQANN_propagation(X_test[i,:],ALLOW_INTERPOLATION=True)\n",
    "    Y_INTERP.append(y_interp)\n",
    "    \n",
    "    interpolation_ends = []\n",
    "    for _, info in interp_info.items():\n",
    "        _, layer_k, this_index = info\n",
    "        interpolation_ends.append(net.used_indices[layer_k][this_index])\n",
    "    INTERP_MEMBER_LIST.append(interpolation_ends)\n",
    "    \n",
    "X_INTERP, Y_INTERP = np.array(X_INTERP), np.array(Y_INTERP )"
   ]
  },
  {
   "cell_type": "code",
   "execution_count": 8,
   "id": "d4a87257",
   "metadata": {},
   "outputs": [
    {
     "data": {
      "image/png": "[encoded data removed]",
      "text/plain": [
       "<Figure size 432x432 with 1 Axes>"
      ]
     },
     "metadata": {
      "needs_background": "light"
     },
     "output_type": "display_data"
    },
    {
     "data": {
      "image/png": "[encoded data removed]",
      "text/plain": [
       "<Figure size 432x432 with 1 Axes>"
      ]
     },
     "metadata": {
      "needs_background": "light"
     },
     "output_type": "display_data"
    }
   ],
   "source": [
    "def plot(X,Y, X_test, Y_test, X_INTERP, Y_INTERP, INTERP_MEMBER_LIST, with_annot=True):\n",
    "    VMAX = 1.5\n",
    "    plt.figure(figsize=(6,6))\n",
    "    \n",
    "    c = np.array([Y,Y*0,Y*0]).T\n",
    "    plt.gca().scatter(X[:,0],X[:,1],s=48, c=c, vmin=0.,vmax=VMAX,label='train')\n",
    "\n",
    "    c1 = np.array([Y_test,Y_test*0,Y_test*0]).T\n",
    "    plt.gca().scatter(X_test[:,0],X_test[:,1],s=48, c=c1, marker='x', vmin=0.,vmax=VMAX,label='test')\n",
    "    \n",
    "    if with_annot:\n",
    "        c2 = np.array([Y_INTERP,Y_INTERP*0,Y_INTERP*0]).T\n",
    "        plt.gca().scatter(X_INTERP[:,0],X_INTERP[:,1],s=128, facecolors='none' , edgecolors=c2 ,\n",
    "            linewidth=1, vmin=0.,vmax=VMAX,cmap='Oranges')\n",
    "\n",
    "        alt_line_style = ['-','-.']\n",
    "        alt_line_width = [0.5,1., 1.5]\n",
    "        alt_colors = ['b','g','y','cyan']\n",
    "        for i, (j,k) in enumerate(INTERP_MEMBER_LIST):\n",
    "            plt.plot([X[j,0], X_INTERP[i,0] ,X[k,0]],[X[j,1], X_INTERP[i,1] ,X[k,1]], \n",
    "                linewidth= alt_line_width[i%len(alt_line_width)] , \n",
    "                c=alt_colors[i%len(alt_colors)], \n",
    "                linestyle=alt_line_style[i%len(alt_line_style)])\n",
    "    plt.gca().set_xlim([-2.5,2.5])\n",
    "    plt.gca().set_ylim([-2.5,2.5])\n",
    "\n",
    "plot(X,Y, X_test, Y_test, X_INTERP, Y_INTERP, INTERP_MEMBER_LIST, with_annot=False)    \n",
    "plt.legend()\n",
    "plot(X,Y, X_test, Y_test, X_INTERP, Y_INTERP, INTERP_MEMBER_LIST) "
   ]
  },
  {
   "cell_type": "code",
   "execution_count": null,
   "id": "16e369c2",
   "metadata": {},
   "outputs": [],
   "source": []
  }
 ],
 "metadata": {
  "kernelspec": {
   "display_name": "Python 3 (ipykernel)",
   "language": "python",
   "name": "python3"
  },
  "language_info": {
   "codemirror_mode": {
    "name": "ipython",
    "version": 3
   },
   "file_extension": ".py",
   "mimetype": "text/x-python",
   "name": "python",
   "nbconvert_exporter": "python",
   "pygments_lexer": "ipython3",
   "version": "3.8.10"
  }
 },
 "nbformat": 4,
 "nbformat_minor": 5
}
